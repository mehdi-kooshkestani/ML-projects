{
  "nbformat": 4,
  "nbformat_minor": 0,
  "metadata": {
    "colab": {
      "provenance": [],
      "authorship_tag": "ABX9TyNDzwPbnsM5lAI/Xj8YOVqs",
      "include_colab_link": true
    },
    "kernelspec": {
      "name": "python3",
      "display_name": "Python 3"
    },
    "language_info": {
      "name": "python"
    }
  },
  "cells": [
    {
      "cell_type": "markdown",
      "metadata": {
        "id": "view-in-github",
        "colab_type": "text"
      },
      "source": [
        "<a href=\"https://colab.research.google.com/github/mehdi-kooshkestani/ML-projects/blob/master/gitauthorization.ipynb\" target=\"_parent\"><img src=\"https://colab.research.google.com/assets/colab-badge.svg\" alt=\"Open In Colab\"/></a>"
      ]
    },
    {
      "cell_type": "code",
      "execution_count": 1,
      "metadata": {
        "colab": {
          "base_uri": "https://localhost:8080/"
        },
        "id": "YUhsnC2ImWkr",
        "outputId": "6b7ed704-690d-4dbc-ce54-01b8d66c11ea"
      },
      "outputs": [
        {
          "output_type": "stream",
          "name": "stdout",
          "text": [
            "ggg\n"
          ]
        }
      ],
      "source": [
        "print(\"ggg\")"
      ]
    },
    {
      "cell_type": "markdown",
      "source": [
        "# salam"
      ],
      "metadata": {
        "id": "n33o-XaNmbVO"
      }
    },
    {
      "cell_type": "code",
      "source": [
        "print(\"\")"
      ],
      "metadata": {
        "colab": {
          "base_uri": "https://localhost:8080/"
        },
        "id": "BUnAkEAWmiEH",
        "outputId": "eee78470-401e-4a37-fb10-ccac965056dd"
      },
      "execution_count": 2,
      "outputs": [
        {
          "output_type": "stream",
          "name": "stdout",
          "text": [
            "\n"
          ]
        }
      ]
    },
    {
      "cell_type": "markdown",
      "source": [],
      "metadata": {
        "id": "RYrXKNCgmhWd"
      }
    }
  ]
}